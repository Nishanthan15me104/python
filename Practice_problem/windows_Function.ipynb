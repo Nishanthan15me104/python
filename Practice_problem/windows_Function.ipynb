{
 "cells": [
  {
   "cell_type": "code",
   "execution_count": 3,
   "metadata": {},
   "outputs": [
    {
     "name": "stdout",
     "output_type": "stream",
     "text": [
      "   Sales  Cumulative_Sales\n",
      "0    100               1.0\n",
      "1    200               3.0\n",
      "2    150               2.0\n",
      "3    300               5.0\n",
      "4    250               4.0\n"
     ]
    }
   ],
   "source": [
    "import pandas as pd\n",
    "\n",
    "# Sample DataFrame\n",
    "data = {'Sales': [100, 200, 150, 300, 250]}\n",
    "df = pd.DataFrame(data)\n",
    "\n",
    "# Calculate cumulative sum using a window function\n",
    "df['Cumulative_Sales'] = df['Sales'].rank()\n",
    "\n",
    "print(df)"
   ]
  },
  {
   "cell_type": "code",
   "execution_count": 11,
   "metadata": {},
   "outputs": [
    {
     "name": "stdout",
     "output_type": "stream",
     "text": [
      "   Sales  Cumulative_Sales  Cumulative_Min  Cumulative_Max\n",
      "0    100               100             100             100\n",
      "1    200               300             100             200\n",
      "2    150               450             100             200\n",
      "3    300               750             100             300\n",
      "4    250              1000             100             300\n"
     ]
    }
   ],
   "source": [
    "import pandas as pd\n",
    "\n",
    "\n",
    "# Cumulative sum\n",
    "df['Cumulative_Sales'] = df['Sales'].cumsum()\n",
    "\n",
    "\n",
    "# Cumulative minimum\n",
    "df['Cumulative_Min'] = df['Sales'].cummin()\n",
    "\n",
    "# Cumulative maximum\n",
    "df['Cumulative_Max'] = df['Sales'].cummax()\n",
    "\n",
    "print(df)"
   ]
  },
  {
   "cell_type": "code",
   "execution_count": 13,
   "metadata": {},
   "outputs": [
    {
     "name": "stdout",
     "output_type": "stream",
     "text": [
      "   Sales  Rolling_Sum_3  Rolling_Count_3  Rolling_Avg_3  Rolling_Min_3  \\\n",
      "0    100            NaN              NaN            NaN            NaN   \n",
      "1    200            NaN              NaN            NaN            NaN   \n",
      "2    150          450.0              3.0     150.000000          100.0   \n",
      "3    300          650.0              3.0     216.666667          150.0   \n",
      "4    250          700.0              3.0     233.333333          150.0   \n",
      "\n",
      "   Rolling_Max_3  Rolling_Rank_3  Rolling_Percentile_Rank_3  \n",
      "0            NaN             NaN                        NaN  \n",
      "1            NaN             NaN                        NaN  \n",
      "2          200.0             2.0                   0.666667  \n",
      "3          300.0             1.0                   0.333333  \n",
      "4          300.0             2.0                   0.666667  \n"
     ]
    }
   ],
   "source": [
    "# Sample DataFrame\n",
    "data = {'Sales': [100, 200, 150, 300, 250]}\n",
    "df = pd.DataFrame(data)\n",
    "\n",
    "\n",
    "# Rolling sum with a window size of 3\n",
    "df['Rolling_Sum_3'] = df['Sales'].rolling(window=3).sum()\n",
    "\n",
    "# Rolling count with a window size of 3\n",
    "df['Rolling_Count_3'] = df['Sales'].rolling(window=3).count()\n",
    "\n",
    "# Rolling average with a window size of 3\n",
    "df['Rolling_Avg_3'] = df['Sales'].rolling(window=3).mean()\n",
    "\n",
    "# Rolling minimum with a window size of 3\n",
    "df['Rolling_Min_3'] = df['Sales'].rolling(window=3).min()\n",
    "\n",
    "# Rolling maximum with a window size of 3\n",
    "df['Rolling_Max_3'] = df['Sales'].rolling(window=3).max()\n",
    "\n",
    "# Rolling rank with a window size of 3\n",
    "df['Rolling_Rank_3'] = df['Sales'].rolling(window=3).rank(ascending=False)\n",
    "\n",
    "# Rolling dense rank with a window size of 3\n",
    "# df['Rolling_Dense_Rank_3'] = df['Sales'].rolling(window=3).rank(ascending=False, method='dense')\n",
    "\n",
    "# Rolling percentile rank with a window size of 3\n",
    "df['Rolling_Percentile_Rank_3'] = df['Sales'].rolling(window=3).rank(ascending=False, pct=True)\n",
    "\n",
    "print(df)"
   ]
  },
  {
   "cell_type": "code",
   "execution_count": 17,
   "metadata": {},
   "outputs": [
    {
     "data": {
      "text/html": [
       "<div>\n",
       "<style scoped>\n",
       "    .dataframe tbody tr th:only-of-type {\n",
       "        vertical-align: middle;\n",
       "    }\n",
       "\n",
       "    .dataframe tbody tr th {\n",
       "        vertical-align: top;\n",
       "    }\n",
       "\n",
       "    .dataframe thead th {\n",
       "        text-align: right;\n",
       "    }\n",
       "</style>\n",
       "<table border=\"1\" class=\"dataframe\">\n",
       "  <thead>\n",
       "    <tr style=\"text-align: right;\">\n",
       "      <th></th>\n",
       "      <th>Sales</th>\n",
       "      <th>Rolling_Sum_3</th>\n",
       "      <th>Rolling_Count_3</th>\n",
       "      <th>Rolling_Avg_3</th>\n",
       "      <th>Rolling_Min_3</th>\n",
       "      <th>Rolling_Max_3</th>\n",
       "      <th>Rolling_Rank_3</th>\n",
       "      <th>Rolling_Percentile_Rank_3</th>\n",
       "    </tr>\n",
       "  </thead>\n",
       "  <tbody>\n",
       "    <tr>\n",
       "      <th>0</th>\n",
       "      <td>100</td>\n",
       "      <td>NaN</td>\n",
       "      <td>NaN</td>\n",
       "      <td>NaN</td>\n",
       "      <td>NaN</td>\n",
       "      <td>NaN</td>\n",
       "      <td>NaN</td>\n",
       "      <td>NaN</td>\n",
       "    </tr>\n",
       "    <tr>\n",
       "      <th>1</th>\n",
       "      <td>200</td>\n",
       "      <td>NaN</td>\n",
       "      <td>NaN</td>\n",
       "      <td>NaN</td>\n",
       "      <td>NaN</td>\n",
       "      <td>NaN</td>\n",
       "      <td>NaN</td>\n",
       "      <td>NaN</td>\n",
       "    </tr>\n",
       "    <tr>\n",
       "      <th>2</th>\n",
       "      <td>150</td>\n",
       "      <td>450.0</td>\n",
       "      <td>3.0</td>\n",
       "      <td>150.000000</td>\n",
       "      <td>100.0</td>\n",
       "      <td>200.0</td>\n",
       "      <td>2.0</td>\n",
       "      <td>0.666667</td>\n",
       "    </tr>\n",
       "    <tr>\n",
       "      <th>3</th>\n",
       "      <td>300</td>\n",
       "      <td>650.0</td>\n",
       "      <td>3.0</td>\n",
       "      <td>216.666667</td>\n",
       "      <td>150.0</td>\n",
       "      <td>300.0</td>\n",
       "      <td>1.0</td>\n",
       "      <td>0.333333</td>\n",
       "    </tr>\n",
       "    <tr>\n",
       "      <th>4</th>\n",
       "      <td>250</td>\n",
       "      <td>700.0</td>\n",
       "      <td>3.0</td>\n",
       "      <td>233.333333</td>\n",
       "      <td>150.0</td>\n",
       "      <td>300.0</td>\n",
       "      <td>2.0</td>\n",
       "      <td>0.666667</td>\n",
       "    </tr>\n",
       "  </tbody>\n",
       "</table>\n",
       "</div>"
      ],
      "text/plain": [
       "   Sales  Rolling_Sum_3  Rolling_Count_3  Rolling_Avg_3  Rolling_Min_3  \\\n",
       "0    100            NaN              NaN            NaN            NaN   \n",
       "1    200            NaN              NaN            NaN            NaN   \n",
       "2    150          450.0              3.0     150.000000          100.0   \n",
       "3    300          650.0              3.0     216.666667          150.0   \n",
       "4    250          700.0              3.0     233.333333          150.0   \n",
       "\n",
       "   Rolling_Max_3  Rolling_Rank_3  Rolling_Percentile_Rank_3  \n",
       "0            NaN             NaN                        NaN  \n",
       "1            NaN             NaN                        NaN  \n",
       "2          200.0             2.0                   0.666667  \n",
       "3          300.0             1.0                   0.333333  \n",
       "4          300.0             2.0                   0.666667  "
      ]
     },
     "execution_count": 17,
     "metadata": {},
     "output_type": "execute_result"
    }
   ],
   "source": [
    "df['Rolling_Percentile_Rank_3'] = df['Sales'].rolling(window=3).rank(ascending=False, pct=True)\n",
    "\n",
    "df"
   ]
  }
 ],
 "metadata": {
  "kernelspec": {
   "display_name": "base",
   "language": "python",
   "name": "python3"
  },
  "language_info": {
   "codemirror_mode": {
    "name": "ipython",
    "version": 3
   },
   "file_extension": ".py",
   "mimetype": "text/x-python",
   "name": "python",
   "nbconvert_exporter": "python",
   "pygments_lexer": "ipython3",
   "version": "3.12.3"
  }
 },
 "nbformat": 4,
 "nbformat_minor": 2
}
